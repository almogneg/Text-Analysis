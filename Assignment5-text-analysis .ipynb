{
 "cells": [
  {
   "cell_type": "markdown",
   "metadata": {},
   "source": [
    "# Assignment 5 - Text Analysis\n",
    "An explanation this assignment could be found in the .pdf explanation document"
   ]
  },
  {
   "cell_type": "markdown",
   "metadata": {},
   "source": [
    "\n",
    "## Materials to review for this assignment\n",
    "<h4>From Moodle:</h4> \n",
    "<h5><u>Review the notebooks regarding the following python topics</u>:</h5>\n",
    "<div class=\"alert alert-info\">\n",
    "&#x2714; <b>Working with strings</b> (tutorial notebook)<br/>\n",
    "&#x2714; <b>Text Analysis</b> (tutorial notebook)<br/>\n",
    "&#x2714; <b>Hebrew text analysis tools (tokenizer, wordnet)</b> (moodle example)<br/>\n",
    "&#x2714; <b>(brief review) All previous notebooks</b><br/>\n",
    "</div> \n",
    "<h5><u>Review the presentations regarding the following topics</u>:</h5>\n",
    "<div class=\"alert alert-info\">\n",
    "&#x2714; <b>Text Analysis</b> (lecture presentation)<br/>\n",
    "&#x2714; <b>(brief review) All other presentations</b><br/>\n",
    "</div>"
   ]
  },
  {
   "cell_type": "markdown",
   "metadata": {},
   "source": [
    "## Preceding Step - import modules (packages)\n",
    "This step is necessary in order to use external modules (packages). <br/>"
   ]
  },
  {
   "cell_type": "code",
   "execution_count": 1,
   "metadata": {},
   "outputs": [],
   "source": [
    "# --------------------------------------\n",
    "import pandas as pd\n",
    "import numpy as np\n",
    "# --------------------------------------\n",
    "\n",
    "\n",
    "# --------------------------------------\n",
    "# ------------- visualizations:\n",
    "import seaborn as sns\n",
    "import matplotlib.pyplot as plt\n",
    "from matplotlib.colors import ListedColormap\n",
    "# --------------------------------------\n",
    "\n",
    "\n",
    "# ---------------------------------------\n",
    "import sklearn\n",
    "from sklearn import preprocessing, metrics, pipeline, model_selection, feature_extraction \n",
    "from sklearn import naive_bayes, linear_model, svm, neural_network, neighbors, tree\n",
    "from sklearn import decomposition, cluster\n",
    "\n",
    "from sklearn.model_selection import train_test_split, cross_val_score, GridSearchCV \n",
    "from sklearn.pipeline import Pipeline\n",
    "from sklearn.metrics import accuracy_score, confusion_matrix\n",
    "from sklearn.metrics import precision_score, recall_score, f1_score\n",
    "from sklearn.metrics import mean_squared_error, r2_score, silhouette_score\n",
    "from sklearn.preprocessing import MinMaxScaler, StandardScaler, LabelEncoder\n",
    "\n",
    "from sklearn.svm import LinearSVC\n",
    "from sklearn.neural_network import MLPClassifier\n",
    "from sklearn.linear_model import Perceptron, SGDClassifier\n",
    "from sklearn.decomposition import PCA\n",
    "from sklearn.cluster import KMeans\n",
    "from sklearn.naive_bayes import MultinomialNB, GaussianNB\n",
    "from sklearn.neighbors import KNeighborsClassifier\n",
    "from sklearn.tree import DecisionTreeClassifier\n",
    "# ---------------------------------------\n",
    "\n",
    "\n",
    "# ----------------- output and visualizations: \n",
    "import warnings\n",
    "from sklearn.exceptions import ConvergenceWarning\n",
    "warnings.simplefilter(\"ignore\")\n",
    "warnings.simplefilter(action='ignore', category=FutureWarning)\n",
    "warnings.simplefilter(\"ignore\", category=ConvergenceWarning)\n",
    "# show several prints in one cell. This will allow us to condence every trick in one cell.\n",
    "from IPython.core.interactiveshell import InteractiveShell\n",
    "InteractiveShell.ast_node_interactivity = \"all\"\n",
    "%matplotlib inline\n",
    "pd.pandas.set_option('display.max_columns', None)\n",
    "pd.set_option('display.float_format', lambda x: '%.3f' % x)\n",
    "# ---------------------------------------\n",
    "from sklearn.model_selection import  cross_validate ,RepeatedKFold , RepeatedStratifiedKFold\n",
    "from sklearn.model_selection import KFold\n",
    "from sklearn.metrics import make_scorer, f1_score\n",
    "from sklearn.model_selection import cross_val_score\n",
    "from sklearn.tree import DecisionTreeClassifier\n",
    "from sklearn.datasets import make_classification\n",
    "\n",
    "\n"
   ]
  },
  {
   "cell_type": "markdown",
   "metadata": {},
   "source": [
    "### Text analysis and String manipulation imports:"
   ]
  },
  {
   "cell_type": "code",
   "execution_count": 2,
   "metadata": {},
   "outputs": [],
   "source": [
    "# --------------------------------------\n",
    "# --------- Text analysis and Hebrew text analysis imports:\n",
    "# vectorizers:\n",
    "from sklearn.feature_extraction import text\n",
    "from sklearn.feature_extraction.text import CountVectorizer, TfidfVectorizer\n",
    "\n",
    "# regular expressions:\n",
    "import re\n",
    "# --------------------------------------"
   ]
  },
  {
   "cell_type": "markdown",
   "metadata": {},
   "source": [
    "### (optional) Hebrew text analysis - WordNet (for Hebrew)\n",
    "Note: the WordNet is not a must"
   ]
  },
  {
   "cell_type": "markdown",
   "metadata": {},
   "source": [
    "#### (optional) Only if you didn't install Wordnet (for Hebrew) use:"
   ]
  },
  {
   "cell_type": "code",
   "execution_count": 3,
   "metadata": {},
   "outputs": [],
   "source": [
    "#word net installation:\n",
    "\n",
    "#unmark if you want to use and need to install\n",
    "#!pip install wn\n",
    "#!python -m wn download omw-he:1.4"
   ]
  },
  {
   "cell_type": "code",
   "execution_count": 4,
   "metadata": {},
   "outputs": [],
   "source": [
    "#word net import:\n",
    "\n",
    "#unmark if you want to use:\n",
    "#import wn"
   ]
  },
  {
   "cell_type": "markdown",
   "metadata": {},
   "source": [
    "### (optional) Hebrew text analysis - hebrew_tokenizer (Tokenizer for Hebrew)\n",
    "Note: the hebrew_tokenizer is not a must"
   ]
  },
  {
   "cell_type": "markdown",
   "metadata": {},
   "source": [
    "#### (optional) Only if you didn't install hebrew_tokenizer use:"
   ]
  },
  {
   "cell_type": "code",
   "execution_count": 5,
   "metadata": {},
   "outputs": [
    {
     "name": "stdout",
     "output_type": "stream",
     "text": [
      "Defaulting to user installation because normal site-packages is not writeable\n",
      "Requirement already satisfied: hebrew_tokenizer in c:\\users\\almog neger\\appdata\\roaming\\python\\python39\\site-packages (2.3.0)\n"
     ]
    }
   ],
   "source": [
    "#Hebrew tokenizer installation:\n",
    "\n",
    "#unmark if you want to use and need to install:\n",
    "!pip install hebrew_tokenizer"
   ]
  },
  {
   "cell_type": "code",
   "execution_count": 6,
   "metadata": {},
   "outputs": [],
   "source": [
    "# Hebrew tokenizer import:\n",
    "\n",
    "# unmark if you want to use:\n",
    "#import hebrew_tokenizer as ht"
   ]
  },
  {
   "cell_type": "markdown",
   "metadata": {},
   "source": [
    "### Reading input files\n",
    "Reading input files for train annotated corpus (raw text data) corpus and for the test corpus"
   ]
  },
  {
   "cell_type": "code",
   "execution_count": 7,
   "metadata": {},
   "outputs": [],
   "source": [
    "train_filename = 'annotated_corpus_for_train.csv'\n",
    "test_filename  = 'corpus_for_test.csv'\n",
    "df_train = pd.read_csv(train_filename, index_col=None, encoding='utf-8')\n",
    "df_test  = pd.read_csv(test_filename, index_col=None, encoding='utf-8')"
   ]
  },
  {
   "cell_type": "code",
   "execution_count": 8,
   "metadata": {},
   "outputs": [
    {
     "data": {
      "text/html": [
       "<div>\n",
       "<style scoped>\n",
       "    .dataframe tbody tr th:only-of-type {\n",
       "        vertical-align: middle;\n",
       "    }\n",
       "\n",
       "    .dataframe tbody tr th {\n",
       "        vertical-align: top;\n",
       "    }\n",
       "\n",
       "    .dataframe thead th {\n",
       "        text-align: right;\n",
       "    }\n",
       "</style>\n",
       "<table border=\"1\" class=\"dataframe\">\n",
       "  <thead>\n",
       "    <tr style=\"text-align: right;\">\n",
       "      <th></th>\n",
       "      <th>story</th>\n",
       "      <th>gender</th>\n",
       "    </tr>\n",
       "  </thead>\n",
       "  <tbody>\n",
       "    <tr>\n",
       "      <th>0</th>\n",
       "      <td>כשחבר הזמין אותי לחול, לא באמת חשבתי שזה יקרה,...</td>\n",
       "      <td>m</td>\n",
       "    </tr>\n",
       "    <tr>\n",
       "      <th>1</th>\n",
       "      <td>לפני שהתגייסתי לצבא עשיתי כל מני מיונים ליחידו...</td>\n",
       "      <td>m</td>\n",
       "    </tr>\n",
       "    <tr>\n",
       "      <th>2</th>\n",
       "      <td>מאז שהתחילו הלימודים חלומו של כל סטודנט זה הפנ...</td>\n",
       "      <td>f</td>\n",
       "    </tr>\n",
       "    <tr>\n",
       "      <th>3</th>\n",
       "      <td>כשהייתי ילד, מטוסים היה הדבר שהכי ריתק אותי. ב...</td>\n",
       "      <td>m</td>\n",
       "    </tr>\n",
       "    <tr>\n",
       "      <th>4</th>\n",
       "      <td>‏הייתי מדריכה בכפר נוער ומתאם הכפר היינו צריכי...</td>\n",
       "      <td>f</td>\n",
       "    </tr>\n",
       "    <tr>\n",
       "      <th>5</th>\n",
       "      <td>לפני כ3 חודשים טסתי לרומא למשך שבוע. טסתי במטו...</td>\n",
       "      <td>f</td>\n",
       "    </tr>\n",
       "    <tr>\n",
       "      <th>6</th>\n",
       "      <td>אני כבר שנתיים נשוי והשנה אני ואישתי סוף סוף י...</td>\n",
       "      <td>m</td>\n",
       "    </tr>\n",
       "    <tr>\n",
       "      <th>7</th>\n",
       "      <td>השנה התחלנו שיפוץ בדירה שלנו בתל אביב. הדירה ה...</td>\n",
       "      <td>f</td>\n",
       "    </tr>\n",
       "  </tbody>\n",
       "</table>\n",
       "</div>"
      ],
      "text/plain": [
       "                                               story gender\n",
       "0  כשחבר הזמין אותי לחול, לא באמת חשבתי שזה יקרה,...      m\n",
       "1  לפני שהתגייסתי לצבא עשיתי כל מני מיונים ליחידו...      m\n",
       "2  מאז שהתחילו הלימודים חלומו של כל סטודנט זה הפנ...      f\n",
       "3  כשהייתי ילד, מטוסים היה הדבר שהכי ריתק אותי. ב...      m\n",
       "4  ‏הייתי מדריכה בכפר נוער ומתאם הכפר היינו צריכי...      f\n",
       "5  לפני כ3 חודשים טסתי לרומא למשך שבוע. טסתי במטו...      f\n",
       "6  אני כבר שנתיים נשוי והשנה אני ואישתי סוף סוף י...      m\n",
       "7  השנה התחלנו שיפוץ בדירה שלנו בתל אביב. הדירה ה...      f"
      ]
     },
     "execution_count": 8,
     "metadata": {},
     "output_type": "execute_result"
    },
    {
     "data": {
      "text/plain": [
       "(753, 2)"
      ]
     },
     "execution_count": 8,
     "metadata": {},
     "output_type": "execute_result"
    }
   ],
   "source": [
    "df_train.head(8)\n",
    "df_train.shape"
   ]
  },
  {
   "cell_type": "code",
   "execution_count": 9,
   "metadata": {},
   "outputs": [
    {
     "data": {
      "text/html": [
       "<div>\n",
       "<style scoped>\n",
       "    .dataframe tbody tr th:only-of-type {\n",
       "        vertical-align: middle;\n",
       "    }\n",
       "\n",
       "    .dataframe tbody tr th {\n",
       "        vertical-align: top;\n",
       "    }\n",
       "\n",
       "    .dataframe thead th {\n",
       "        text-align: right;\n",
       "    }\n",
       "</style>\n",
       "<table border=\"1\" class=\"dataframe\">\n",
       "  <thead>\n",
       "    <tr style=\"text-align: right;\">\n",
       "      <th></th>\n",
       "      <th>test_example_id</th>\n",
       "      <th>story</th>\n",
       "    </tr>\n",
       "  </thead>\n",
       "  <tbody>\n",
       "    <tr>\n",
       "      <th>0</th>\n",
       "      <td>0</td>\n",
       "      <td>כל קיץ אני והמשפחה נוסעים לארצות הברית לוס אנג...</td>\n",
       "    </tr>\n",
       "    <tr>\n",
       "      <th>1</th>\n",
       "      <td>1</td>\n",
       "      <td>הגעתי לשירות המדינה אחרי שנתיים כפעיל בתנועת \"...</td>\n",
       "    </tr>\n",
       "    <tr>\n",
       "      <th>2</th>\n",
       "      <td>2</td>\n",
       "      <td>אחת האהבות הגדולות שלי אלו הכלבים שלי ושל אישת...</td>\n",
       "    </tr>\n",
       "  </tbody>\n",
       "</table>\n",
       "</div>"
      ],
      "text/plain": [
       "   test_example_id                                              story\n",
       "0                0  כל קיץ אני והמשפחה נוסעים לארצות הברית לוס אנג...\n",
       "1                1  הגעתי לשירות המדינה אחרי שנתיים כפעיל בתנועת \"...\n",
       "2                2  אחת האהבות הגדולות שלי אלו הכלבים שלי ושל אישת..."
      ]
     },
     "execution_count": 9,
     "metadata": {},
     "output_type": "execute_result"
    },
    {
     "data": {
      "text/plain": [
       "(323, 2)"
      ]
     },
     "execution_count": 9,
     "metadata": {},
     "output_type": "execute_result"
    }
   ],
   "source": [
    "df_test.head(3)\n",
    "df_test.shape"
   ]
  },
  {
   "cell_type": "code",
   "execution_count": null,
   "metadata": {},
   "outputs": [],
   "source": [
    "\n"
   ]
  },
  {
   "cell_type": "markdown",
   "metadata": {},
   "source": [
    "### Your implementation:\n",
    "Write your code solution in the following code-cells"
   ]
  },
  {
   "cell_type": "markdown",
   "metadata": {},
   "source": [
    "# Clean data set"
   ]
  },
  {
   "cell_type": "code",
   "execution_count": 10,
   "metadata": {},
   "outputs": [],
   "source": [
    "df_train['story'] = df_train['story'].str.replace('\\s+', '').str.replace(',', '').str.replace('\\d+', '')\n",
    "df_test['story'] = df_test['story'].str.replace('\\s+', '').str.replace(',', '').str.replace('\\d+', '')\n"
   ]
  },
  {
   "cell_type": "markdown",
   "metadata": {},
   "source": [
    "# אופציונלי(איזון בין גברים לנשים בעמודות המגדר) "
   ]
  },
  {
   "cell_type": "code",
   "execution_count": 11,
   "metadata": {},
   "outputs": [],
   "source": [
    "# from sklearn.utils import resample\n",
    "\n",
    "# # separate the majority and minority classes\n",
    "# df_majority = df_train[df_train['gender'] == 'm']\n",
    "# df_minority = df_train[df_train['gender'] == 'f']\n",
    "# #downsample the majority class\n",
    "# df_majority_downsampled = resample(df_majority, \n",
    "#                                     replace=False,    # sample without replacement\n",
    "#                                    n_samples=len(df_minority),    # to match minority class\n",
    "#                                     random_state=42)  # reproducible results\n",
    "\n",
    "# #combine majority class with minority class\n",
    "# df_train= pd.concat([df_majority_downsampled, df_minority])\n"
   ]
  },
  {
   "cell_type": "code",
   "execution_count": 12,
   "metadata": {},
   "outputs": [],
   "source": [
    "train_corpus=df_train['story'].values\n",
    "test_corpus=df_test['story'].values\n"
   ]
  },
  {
   "cell_type": "markdown",
   "metadata": {},
   "source": [
    "## Vectorization+ Normalization function\n"
   ]
  },
  {
   "cell_type": "code",
   "execution_count": 13,
   "metadata": {},
   "outputs": [],
   "source": [
    "def vect_norm_func(vect_method,max_features,norm):##(TfidfVectorizer,1000,'l1')\n",
    "    count_vect = vect_method(max_features=1000)\n",
    "    X_train_counts = count_vect.fit_transform(train_corpus)\n",
    "    #pd.DataFrame(X_train_idf.toarray(), columns=count_vect.get_feature_names_out())\n",
    "    X_train_counts.shape\n",
    "    ### normalize the data\n",
    "    X_train_counts_normalized = preprocessing.normalize(X_train_counts, norm=norm)\n",
    "    return X_train_counts_normalized"
   ]
  },
  {
   "cell_type": "markdown",
   "metadata": {},
   "source": [
    "# Calculate function"
   ]
  },
  {
   "cell_type": "code",
   "execution_count": 14,
   "metadata": {},
   "outputs": [],
   "source": [
    "from sklearn.model_selection import GridSearchCV\n",
    "\n",
    "def calculate_avg_f11(model, x_train_norm, param_grid):\n",
    "    # define the evaluation metric\n",
    "    scorer = make_scorer(f1_score, average='macro')\n",
    "\n",
    "    # perform grid search for hyperparameter tuning\n",
    "    clf = GridSearchCV(model, param_grid, scoring=scorer, cv=10)\n",
    "    clf.fit(x_train_norm, df_train['gender'])\n",
    "\n",
    "    # print the results for each fold\n",
    "    for i, params in enumerate(clf.cv_results_['params']):\n",
    "        # train the model with the best hyperparameters found in this fold\n",
    "        model.set_params(**params)\n",
    "        model.fit(x_train_norm, df_train['gender'])\n",
    "\n",
    "        # calculate the f1 scores for each gender class\n",
    "        y_pred = model.predict(x_train_norm)\n",
    "        f1_male = f1_score(df_train['gender'], y_pred, pos_label='m', average='macro')\n",
    "        f1_female = f1_score(df_train['gender'], y_pred, pos_label='f', average='macro')\n",
    "\n",
    "        # calculate the average F1 score across all classes\n",
    "        average_f1 = (f1_male + f1_female) / 2\n",
    "\n",
    "        # print the results for this fold\n",
    "        print(f\"Fold {i+1}: Best params = {params}, Average F1 score = {average_f1}\")\n"
   ]
  },
  {
   "cell_type": "markdown",
   "metadata": {},
   "source": [
    "# ## Vectorization+ Normalization\n"
   ]
  },
  {
   "cell_type": "code",
   "execution_count": 15,
   "metadata": {},
   "outputs": [],
   "source": [
    "x_train_norm1=vect_norm_func(TfidfVectorizer,1000,'l1')"
   ]
  },
  {
   "cell_type": "code",
   "execution_count": 16,
   "metadata": {},
   "outputs": [],
   "source": [
    "x_train_norm2=vect_norm_func(TfidfVectorizer,1000,'l2')"
   ]
  },
  {
   "cell_type": "code",
   "execution_count": 17,
   "metadata": {},
   "outputs": [],
   "source": [
    "x_train_norm3=vect_norm_func(CountVectorizer,1000,'l2')"
   ]
  },
  {
   "cell_type": "code",
   "execution_count": null,
   "metadata": {},
   "outputs": [],
   "source": []
  },
  {
   "cell_type": "markdown",
   "metadata": {},
   "source": [
    "# Call functions with different hyper para"
   ]
  },
  {
   "cell_type": "markdown",
   "metadata": {},
   "source": [
    "# MultinomialNB"
   ]
  },
  {
   "cell_type": "code",
   "execution_count": 18,
   "metadata": {},
   "outputs": [
    {
     "name": "stdout",
     "output_type": "stream",
     "text": [
      "Fold 1: Best params = {'alpha': 0.1}, Average F1 score = 0.8738552602188965\n",
      "Fold 2: Best params = {'alpha': 0.2}, Average F1 score = 0.8279532725611043\n",
      "Fold 3: Best params = {'alpha': 0.5}, Average F1 score = 0.6877404259479651\n"
     ]
    }
   ],
   "source": [
    "from sklearn.naive_bayes import MultinomialNB\n",
    "\n",
    "model = MultinomialNB()\n",
    "param_grid = {'alpha': [0.1, 0.2, 0.5]}\n",
    "calculate_avg_f11(model, x_train_norm1, param_grid)"
   ]
  },
  {
   "cell_type": "code",
   "execution_count": 19,
   "metadata": {},
   "outputs": [
    {
     "name": "stdout",
     "output_type": "stream",
     "text": [
      "Fold 1: Best params = {'alpha': 0.6}, Average F1 score = 0.6840930005954636\n",
      "Fold 2: Best params = {'alpha': 0.8}, Average F1 score = 0.4505368497863026\n",
      "Fold 3: Best params = {'alpha': 1.0}, Average F1 score = 0.444746103569633\n"
     ]
    }
   ],
   "source": [
    "model = MultinomialNB()\n",
    "param_grid = {'alpha': [0.6, 0.8, 1.0]}\n",
    "calculate_avg_f11(model, x_train_norm1, param_grid)"
   ]
  },
  {
   "cell_type": "code",
   "execution_count": 20,
   "metadata": {},
   "outputs": [
    {
     "name": "stdout",
     "output_type": "stream",
     "text": [
      "Fold 1: Best params = {'alpha': 0.1}, Average F1 score = 0.8775120276808976\n",
      "Fold 2: Best params = {'alpha': 0.2}, Average F1 score = 0.8775120276808976\n",
      "Fold 3: Best params = {'alpha': 0.5}, Average F1 score = 0.8573077086250054\n"
     ]
    }
   ],
   "source": [
    "model = MultinomialNB()\n",
    "param_grid = {'alpha': [0.1, 0.2, 0.5]}\n",
    "calculate_avg_f11(model, x_train_norm2, param_grid)"
   ]
  },
  {
   "cell_type": "code",
   "execution_count": 21,
   "metadata": {},
   "outputs": [
    {
     "name": "stdout",
     "output_type": "stream",
     "text": [
      "Fold 1: Best params = {'alpha': 0.1}, Average F1 score = 0.8775120276808976\n",
      "Fold 2: Best params = {'alpha': 0.2}, Average F1 score = 0.8775120276808976\n",
      "Fold 3: Best params = {'alpha': 0.5}, Average F1 score = 0.8573077086250054\n"
     ]
    }
   ],
   "source": [
    "model = MultinomialNB()\n",
    "param_grid = {'alpha': [0.1, 0.2, 0.5]}\n",
    "calculate_avg_f11(model, x_train_norm3, param_grid)"
   ]
  },
  {
   "cell_type": "markdown",
   "metadata": {},
   "source": [
    "Fold 1: Best params = {'alpha': 0.1}, Average F1 score = 0.8775120276808976\n",
    "\n",
    "x_train_norm2"
   ]
  },
  {
   "cell_type": "code",
   "execution_count": null,
   "metadata": {},
   "outputs": [],
   "source": []
  },
  {
   "cell_type": "code",
   "execution_count": null,
   "metadata": {},
   "outputs": [],
   "source": []
  },
  {
   "cell_type": "markdown",
   "metadata": {},
   "source": [
    "# SVC"
   ]
  },
  {
   "cell_type": "code",
   "execution_count": 22,
   "metadata": {},
   "outputs": [
    {
     "name": "stdout",
     "output_type": "stream",
     "text": [
      "Fold 1: Best params = {'C': 0.1, 'kernel': 'linear'}, Average F1 score = 0.4329819277108434\n",
      "Fold 2: Best params = {'C': 0.1, 'kernel': 'poly'}, Average F1 score = 0.6877404259479651\n",
      "Fold 3: Best params = {'C': 0.1, 'kernel': 'rbf'}, Average F1 score = 0.4329819277108434\n",
      "Fold 4: Best params = {'C': 0.1, 'kernel': 'sigmoid'}, Average F1 score = 0.4329819277108434\n",
      "Fold 5: Best params = {'C': 1, 'kernel': 'linear'}, Average F1 score = 0.45626805218950234\n",
      "Fold 6: Best params = {'C': 1, 'kernel': 'poly'}, Average F1 score = 0.7738479687156512\n",
      "Fold 7: Best params = {'C': 1, 'kernel': 'rbf'}, Average F1 score = 0.8198271914925042\n",
      "Fold 8: Best params = {'C': 1, 'kernel': 'sigmoid'}, Average F1 score = 0.4786168132942326\n",
      "Fold 9: Best params = {'C': 10, 'kernel': 'linear'}, Average F1 score = 0.8786779412418331\n",
      "Fold 10: Best params = {'C': 10, 'kernel': 'poly'}, Average F1 score = 0.8622854232729052\n",
      "Fold 11: Best params = {'C': 10, 'kernel': 'rbf'}, Average F1 score = 0.8786779412418331\n",
      "Fold 12: Best params = {'C': 10, 'kernel': 'sigmoid'}, Average F1 score = 0.8762730698214569\n"
     ]
    }
   ],
   "source": [
    "from sklearn.svm import SVC\n",
    "\n",
    "model = SVC()\n",
    "param_grid = {'C': [0.1, 1, 10], 'kernel': ['linear', 'poly', 'rbf', 'sigmoid']}\n",
    "calculate_avg_f11(model, x_train_norm1, param_grid)"
   ]
  },
  {
   "cell_type": "code",
   "execution_count": 23,
   "metadata": {},
   "outputs": [
    {
     "name": "stdout",
     "output_type": "stream",
     "text": [
      "Fold 1: Best params = {'C': 0.1, 'kernel': 'linear'}, Average F1 score = 0.4329819277108434\n",
      "Fold 2: Best params = {'C': 0.1, 'kernel': 'poly'}, Average F1 score = 0.4329819277108434\n",
      "Fold 3: Best params = {'C': 0.1, 'kernel': 'rbf'}, Average F1 score = 0.4329819277108434\n",
      "Fold 4: Best params = {'C': 0.1, 'kernel': 'sigmoid'}, Average F1 score = 0.4329819277108434\n",
      "Fold 5: Best params = {'C': 1, 'kernel': 'linear'}, Average F1 score = 0.822552138564864\n",
      "Fold 6: Best params = {'C': 1, 'kernel': 'poly'}, Average F1 score = 0.8786779412418331\n",
      "Fold 7: Best params = {'C': 1, 'kernel': 'rbf'}, Average F1 score = 0.8786779412418331\n",
      "Fold 8: Best params = {'C': 1, 'kernel': 'sigmoid'}, Average F1 score = 0.5307680324038012\n",
      "Fold 9: Best params = {'C': 10, 'kernel': 'linear'}, Average F1 score = 0.8786779412418331\n",
      "Fold 10: Best params = {'C': 10, 'kernel': 'poly'}, Average F1 score = 0.8786779412418331\n",
      "Fold 11: Best params = {'C': 10, 'kernel': 'rbf'}, Average F1 score = 0.8786779412418331\n",
      "Fold 12: Best params = {'C': 10, 'kernel': 'sigmoid'}, Average F1 score = 0.8786779412418331\n"
     ]
    }
   ],
   "source": [
    "model = SVC()\n",
    "param_grid = {'C': [0.1, 1, 10], 'kernel': ['linear', 'poly', 'rbf', 'sigmoid']}\n",
    "calculate_avg_f11(model, x_train_norm2, param_grid)"
   ]
  },
  {
   "cell_type": "code",
   "execution_count": 24,
   "metadata": {},
   "outputs": [
    {
     "name": "stdout",
     "output_type": "stream",
     "text": [
      "Fold 1: Best params = {'C': 0.1, 'kernel': 'linear'}, Average F1 score = 0.4329819277108434\n",
      "Fold 2: Best params = {'C': 0.1, 'kernel': 'poly'}, Average F1 score = 0.4329819277108434\n",
      "Fold 3: Best params = {'C': 0.1, 'kernel': 'rbf'}, Average F1 score = 0.4329819277108434\n",
      "Fold 4: Best params = {'C': 0.1, 'kernel': 'sigmoid'}, Average F1 score = 0.4329819277108434\n",
      "Fold 5: Best params = {'C': 1, 'kernel': 'linear'}, Average F1 score = 0.5307680324038012\n",
      "Fold 6: Best params = {'C': 1, 'kernel': 'poly'}, Average F1 score = 0.8786779412418331\n",
      "Fold 7: Best params = {'C': 1, 'kernel': 'rbf'}, Average F1 score = 0.8786779412418331\n",
      "Fold 8: Best params = {'C': 1, 'kernel': 'sigmoid'}, Average F1 score = 0.5307680324038012\n",
      "Fold 9: Best params = {'C': 10, 'kernel': 'linear'}, Average F1 score = 0.8786779412418331\n",
      "Fold 10: Best params = {'C': 10, 'kernel': 'poly'}, Average F1 score = 0.8786779412418331\n",
      "Fold 11: Best params = {'C': 10, 'kernel': 'rbf'}, Average F1 score = 0.8786779412418331\n",
      "Fold 12: Best params = {'C': 10, 'kernel': 'sigmoid'}, Average F1 score = 0.8786779412418331\n"
     ]
    }
   ],
   "source": [
    "model = SVC()\n",
    "param_grid = {'C': [0.1, 1, 10], 'kernel': ['linear', 'poly', 'rbf', 'sigmoid']}\n",
    "calculate_avg_f11(model, x_train_norm3, param_grid)"
   ]
  },
  {
   "cell_type": "code",
   "execution_count": 25,
   "metadata": {},
   "outputs": [
    {
     "name": "stdout",
     "output_type": "stream",
     "text": [
      "Fold 1: Best params = {'C': 0.1, 'degree': 2, 'gamma': 'scale'}, Average F1 score = 0.4329819277108434\n",
      "Fold 2: Best params = {'C': 0.1, 'degree': 2, 'gamma': 'auto'}, Average F1 score = 0.4329819277108434\n",
      "Fold 3: Best params = {'C': 0.1, 'degree': 3, 'gamma': 'scale'}, Average F1 score = 0.4329819277108434\n",
      "Fold 4: Best params = {'C': 0.1, 'degree': 3, 'gamma': 'auto'}, Average F1 score = 0.4329819277108434\n",
      "Fold 5: Best params = {'C': 0.1, 'degree': 4, 'gamma': 'scale'}, Average F1 score = 0.4786168132942326\n",
      "Fold 6: Best params = {'C': 0.1, 'degree': 4, 'gamma': 'auto'}, Average F1 score = 0.4329819277108434\n",
      "Fold 7: Best params = {'C': 1.0, 'degree': 2, 'gamma': 'scale'}, Average F1 score = 0.8786779412418331\n",
      "Fold 8: Best params = {'C': 1.0, 'degree': 2, 'gamma': 'auto'}, Average F1 score = 0.4329819277108434\n",
      "Fold 9: Best params = {'C': 1.0, 'degree': 3, 'gamma': 'scale'}, Average F1 score = 0.8786779412418331\n",
      "Fold 10: Best params = {'C': 1.0, 'degree': 3, 'gamma': 'auto'}, Average F1 score = 0.4329819277108434\n",
      "Fold 11: Best params = {'C': 1.0, 'degree': 4, 'gamma': 'scale'}, Average F1 score = 0.8786779412418331\n",
      "Fold 12: Best params = {'C': 1.0, 'degree': 4, 'gamma': 'auto'}, Average F1 score = 0.4329819277108434\n",
      "Fold 13: Best params = {'C': 10.0, 'degree': 2, 'gamma': 'scale'}, Average F1 score = 0.8786779412418331\n",
      "Fold 14: Best params = {'C': 10.0, 'degree': 2, 'gamma': 'auto'}, Average F1 score = 0.4329819277108434\n",
      "Fold 15: Best params = {'C': 10.0, 'degree': 3, 'gamma': 'scale'}, Average F1 score = 0.8786779412418331\n",
      "Fold 16: Best params = {'C': 10.0, 'degree': 3, 'gamma': 'auto'}, Average F1 score = 0.4329819277108434\n",
      "Fold 17: Best params = {'C': 10.0, 'degree': 4, 'gamma': 'scale'}, Average F1 score = 0.8786779412418331\n",
      "Fold 18: Best params = {'C': 10.0, 'degree': 4, 'gamma': 'auto'}, Average F1 score = 0.4329819277108434\n"
     ]
    }
   ],
   "source": [
    "model = SVC(kernel='poly')\n",
    "param_grid = {'C': [0.1, 1.0, 10.0], 'gamma': ['scale', 'auto'], 'degree': [2, 3, 4]}\n",
    "calculate_avg_f11(model, x_train_norm3, param_grid)"
   ]
  },
  {
   "cell_type": "markdown",
   "metadata": {},
   "source": [
    "Fold 6: Best params = {'C': 1, 'kernel': 'poly'}, Average F1 score = 0.8786779412418331\n",
    "\n",
    "x_train_norm2\n"
   ]
  },
  {
   "cell_type": "code",
   "execution_count": null,
   "metadata": {},
   "outputs": [],
   "source": []
  },
  {
   "cell_type": "code",
   "execution_count": null,
   "metadata": {},
   "outputs": [],
   "source": []
  },
  {
   "cell_type": "markdown",
   "metadata": {},
   "source": [
    "# BernoulliNB"
   ]
  },
  {
   "cell_type": "code",
   "execution_count": 26,
   "metadata": {},
   "outputs": [
    {
     "name": "stdout",
     "output_type": "stream",
     "text": [
      "Fold 1: Best params = {'alpha': 0.1}, Average F1 score = 0.8775120276808976\n",
      "Fold 2: Best params = {'alpha': 1.0}, Average F1 score = 0.5980850299009837\n",
      "Fold 3: Best params = {'alpha': 10.0}, Average F1 score = 0.4329819277108434\n"
     ]
    }
   ],
   "source": [
    "from sklearn.naive_bayes import BernoulliNB\n",
    "\n",
    "bnb = BernoulliNB()\n",
    "param_grid = {'alpha': [0.1, 1.0, 10.0]}\n",
    "calculate_avg_f11(bnb, x_train_norm1, param_grid)"
   ]
  },
  {
   "cell_type": "code",
   "execution_count": 27,
   "metadata": {},
   "outputs": [
    {
     "name": "stdout",
     "output_type": "stream",
     "text": [
      "Fold 1: Best params = {'alpha': 0.1}, Average F1 score = 0.8775120276808976\n",
      "Fold 2: Best params = {'alpha': 1.0}, Average F1 score = 0.5980850299009837\n",
      "Fold 3: Best params = {'alpha': 10.0}, Average F1 score = 0.4329819277108434\n"
     ]
    }
   ],
   "source": [
    "bnb = BernoulliNB()\n",
    "param_grid = {'alpha': [0.1, 1.0, 10.0]}\n",
    "calculate_avg_f11(bnb, x_train_norm2, param_grid)"
   ]
  },
  {
   "cell_type": "code",
   "execution_count": 28,
   "metadata": {},
   "outputs": [
    {
     "name": "stdout",
     "output_type": "stream",
     "text": [
      "Fold 1: Best params = {'alpha': 0.1}, Average F1 score = 0.8775120276808976\n",
      "Fold 2: Best params = {'alpha': 1.0}, Average F1 score = 0.5980850299009837\n",
      "Fold 3: Best params = {'alpha': 10.0}, Average F1 score = 0.4329819277108434\n"
     ]
    }
   ],
   "source": [
    "bnb = BernoulliNB()\n",
    "param_grid = {'alpha': [0.1, 1.0, 10.0]}\n",
    "calculate_avg_f11(bnb, x_train_norm3, param_grid)"
   ]
  },
  {
   "cell_type": "markdown",
   "metadata": {},
   "source": [
    "Fold 1: Best params = {'alpha': 0.1}, Average F1 score = 0.8775120276808976\n",
    "\n",
    "x_train_norm1"
   ]
  },
  {
   "cell_type": "code",
   "execution_count": null,
   "metadata": {},
   "outputs": [],
   "source": []
  },
  {
   "cell_type": "code",
   "execution_count": null,
   "metadata": {},
   "outputs": [],
   "source": []
  },
  {
   "cell_type": "markdown",
   "metadata": {},
   "source": [
    "# KNeighborsClassifier"
   ]
  },
  {
   "cell_type": "code",
   "execution_count": 29,
   "metadata": {},
   "outputs": [
    {
     "name": "stdout",
     "output_type": "stream",
     "text": [
      "Fold 1: Best params = {}, Average F1 score = 0.48874908100420633\n"
     ]
    }
   ],
   "source": [
    "from sklearn.neighbors import KNeighborsClassifier\n",
    "\n",
    "knn = KNeighborsClassifier()\n",
    "calculate_avg_f11(knn, x_train_norm1, {})"
   ]
  },
  {
   "cell_type": "code",
   "execution_count": 30,
   "metadata": {},
   "outputs": [
    {
     "name": "stdout",
     "output_type": "stream",
     "text": [
      "Fold 1: Best params = {}, Average F1 score = 0.6384885100873882\n"
     ]
    }
   ],
   "source": [
    "knn = KNeighborsClassifier()\n",
    "calculate_avg_f11(knn, x_train_norm3, {})"
   ]
  },
  {
   "cell_type": "code",
   "execution_count": 31,
   "metadata": {},
   "outputs": [
    {
     "name": "stdout",
     "output_type": "stream",
     "text": [
      "Fold 1: Best params = {'n_neighbors': 3}, Average F1 score = 0.6807470879635829\n",
      "Fold 2: Best params = {'n_neighbors': 5}, Average F1 score = 0.48874908100420633\n",
      "Fold 3: Best params = {'n_neighbors': 7}, Average F1 score = 0.45626805218950234\n"
     ]
    }
   ],
   "source": [
    "knn = KNeighborsClassifier()\n",
    "param_grid = {'n_neighbors': [3, 5, 7]}\n",
    "calculate_avg_f11(knn, x_train_norm1, param_grid)"
   ]
  },
  {
   "cell_type": "code",
   "execution_count": 32,
   "metadata": {},
   "outputs": [
    {
     "name": "stdout",
     "output_type": "stream",
     "text": [
      "Fold 1: Best params = {'n_neighbors': 3}, Average F1 score = 0.6831421762121099\n",
      "Fold 2: Best params = {'n_neighbors': 5}, Average F1 score = 0.4329819277108434\n",
      "Fold 3: Best params = {'n_neighbors': 7}, Average F1 score = 0.4329819277108434\n"
     ]
    }
   ],
   "source": [
    "knn = KNeighborsClassifier()\n",
    "param_grid = {'n_neighbors': [3, 5, 7]}\n",
    "calculate_avg_f11(knn, x_train_norm2, param_grid)"
   ]
  },
  {
   "cell_type": "code",
   "execution_count": 33,
   "metadata": {},
   "outputs": [
    {
     "name": "stdout",
     "output_type": "stream",
     "text": [
      "Fold 1: Best params = {'n_neighbors': 3}, Average F1 score = 0.6815343941959969\n",
      "Fold 2: Best params = {'n_neighbors': 5}, Average F1 score = 0.6384885100873882\n",
      "Fold 3: Best params = {'n_neighbors': 7}, Average F1 score = 0.6825278123990215\n"
     ]
    }
   ],
   "source": [
    "knn = KNeighborsClassifier()\n",
    "param_grid = {'n_neighbors': [3, 5, 7]}\n",
    "calculate_avg_f11(knn, x_train_norm3, param_grid)"
   ]
  },
  {
   "cell_type": "code",
   "execution_count": 34,
   "metadata": {},
   "outputs": [
    {
     "name": "stdout",
     "output_type": "stream",
     "text": [
      "Fold 1: Best params = {'n_neighbors': 3, 'weights': 'uniform'}, Average F1 score = 0.6807470879635829\n",
      "Fold 2: Best params = {'n_neighbors': 3, 'weights': 'distance'}, Average F1 score = 0.6907482078853047\n",
      "Fold 3: Best params = {'n_neighbors': 5, 'weights': 'uniform'}, Average F1 score = 0.48874908100420633\n",
      "Fold 4: Best params = {'n_neighbors': 5, 'weights': 'distance'}, Average F1 score = 0.8810620915032681\n",
      "Fold 5: Best params = {'n_neighbors': 7, 'weights': 'uniform'}, Average F1 score = 0.45626805218950234\n",
      "Fold 6: Best params = {'n_neighbors': 7, 'weights': 'distance'}, Average F1 score = 0.8810620915032681\n",
      "Fold 7: Best params = {'n_neighbors': 9, 'weights': 'uniform'}, Average F1 score = 0.4329819277108434\n",
      "Fold 8: Best params = {'n_neighbors': 9, 'weights': 'distance'}, Average F1 score = 0.8810620915032681\n"
     ]
    }
   ],
   "source": [
    "# KNN with different values of n_neighbors and weights\n",
    "model = KNeighborsClassifier()\n",
    "param_grid = {'n_neighbors': [3, 5, 7, 9], 'weights': ['uniform', 'distance']}\n",
    "calculate_avg_f11(model, x_train_norm1, param_grid)"
   ]
  },
  {
   "cell_type": "code",
   "execution_count": 35,
   "metadata": {},
   "outputs": [
    {
     "name": "stdout",
     "output_type": "stream",
     "text": [
      "Fold 1: Best params = {'n_neighbors': 3, 'weights': 'uniform'}, Average F1 score = 0.6815343941959969\n",
      "Fold 2: Best params = {'n_neighbors': 3, 'weights': 'distance'}, Average F1 score = 0.6907482078853047\n",
      "Fold 3: Best params = {'n_neighbors': 5, 'weights': 'uniform'}, Average F1 score = 0.6384885100873882\n",
      "Fold 4: Best params = {'n_neighbors': 5, 'weights': 'distance'}, Average F1 score = 0.8810620915032681\n",
      "Fold 5: Best params = {'n_neighbors': 7, 'weights': 'uniform'}, Average F1 score = 0.6825278123990215\n",
      "Fold 6: Best params = {'n_neighbors': 7, 'weights': 'distance'}, Average F1 score = 0.8810620915032681\n",
      "Fold 7: Best params = {'n_neighbors': 9, 'weights': 'uniform'}, Average F1 score = 0.5502756508422664\n",
      "Fold 8: Best params = {'n_neighbors': 9, 'weights': 'distance'}, Average F1 score = 0.8810620915032681\n"
     ]
    }
   ],
   "source": [
    "model = KNeighborsClassifier()\n",
    "param_grid = {'n_neighbors': [3, 5, 7, 9], 'weights': ['uniform', 'distance']}\n",
    "calculate_avg_f11(model, x_train_norm3, param_grid)"
   ]
  },
  {
   "cell_type": "markdown",
   "metadata": {},
   "source": [
    "Fold 4: Best params = {'n_neighbors': 5, 'weights': 'distance'}, Average F1 score = 0.8810620915032681"
   ]
  },
  {
   "cell_type": "code",
   "execution_count": null,
   "metadata": {},
   "outputs": [],
   "source": []
  },
  {
   "cell_type": "code",
   "execution_count": null,
   "metadata": {},
   "outputs": [],
   "source": []
  },
  {
   "cell_type": "markdown",
   "metadata": {},
   "source": [
    "# LinearSVC"
   ]
  },
  {
   "cell_type": "code",
   "execution_count": 36,
   "metadata": {},
   "outputs": [
    {
     "name": "stdout",
     "output_type": "stream",
     "text": [
      "Fold 1: Best params = {}, Average F1 score = 0.822552138564864\n"
     ]
    }
   ],
   "source": [
    "from sklearn.svm import LinearSVC\n",
    "\n",
    "svm = LinearSVC()\n",
    "calculate_avg_f11(svm, x_train_norm1, {})"
   ]
  },
  {
   "cell_type": "code",
   "execution_count": 37,
   "metadata": {},
   "outputs": [
    {
     "name": "stdout",
     "output_type": "stream",
     "text": [
      "Fold 1: Best params = {}, Average F1 score = 0.8786779412418331\n"
     ]
    }
   ],
   "source": [
    "svm = LinearSVC()\n",
    "calculate_avg_f11(svm, x_train_norm2, {})"
   ]
  },
  {
   "cell_type": "code",
   "execution_count": 38,
   "metadata": {},
   "outputs": [
    {
     "name": "stdout",
     "output_type": "stream",
     "text": [
      "Fold 1: Best params = {}, Average F1 score = 0.8786779412418331\n"
     ]
    }
   ],
   "source": [
    "svm = LinearSVC()\n",
    "calculate_avg_f11(svm, x_train_norm3, {})"
   ]
  },
  {
   "cell_type": "code",
   "execution_count": 39,
   "metadata": {},
   "outputs": [
    {
     "name": "stdout",
     "output_type": "stream",
     "text": [
      "Fold 1: Best params = {'C': 0.1}, Average F1 score = 0.4329819277108434\n",
      "Fold 2: Best params = {'C': 1.0}, Average F1 score = 0.822552138564864\n",
      "Fold 3: Best params = {'C': 10.0}, Average F1 score = 0.8786779412418331\n"
     ]
    }
   ],
   "source": [
    "svm = LinearSVC()\n",
    "param_grid = {'C': [0.1, 1.0, 10.0]}\n",
    "calculate_avg_f11(svm, x_train_norm1, param_grid)"
   ]
  },
  {
   "cell_type": "code",
   "execution_count": 40,
   "metadata": {},
   "outputs": [
    {
     "name": "stdout",
     "output_type": "stream",
     "text": [
      "Fold 1: Best params = {'C': 0.1}, Average F1 score = 0.4329819277108434\n",
      "Fold 2: Best params = {'C': 1.0}, Average F1 score = 0.8786779412418331\n",
      "Fold 3: Best params = {'C': 10.0}, Average F1 score = 0.8786779412418331\n"
     ]
    }
   ],
   "source": [
    "svm = LinearSVC()\n",
    "param_grid = {'C': [0.1, 1.0, 10.0]}\n",
    "calculate_avg_f11(svm, x_train_norm2, param_grid)"
   ]
  },
  {
   "cell_type": "code",
   "execution_count": 41,
   "metadata": {},
   "outputs": [
    {
     "name": "stdout",
     "output_type": "stream",
     "text": [
      "Fold 1: Best params = {'C': 0.1}, Average F1 score = 0.4329819277108434\n",
      "Fold 2: Best params = {'C': 1.0}, Average F1 score = 0.8786779412418331\n",
      "Fold 3: Best params = {'C': 10.0}, Average F1 score = 0.8786779412418331\n"
     ]
    }
   ],
   "source": [
    "svm = LinearSVC()\n",
    "param_grid = {'C': [0.1, 1.0, 10.0]}\n",
    "calculate_avg_f11(svm, x_train_norm3, param_grid)"
   ]
  },
  {
   "cell_type": "markdown",
   "metadata": {},
   "source": [
    "Fold 2: Best params = {'C': 1.0}, Average F1 score = 0.8786779412418331\n",
    "    \n",
    "x_train_norm2"
   ]
  },
  {
   "cell_type": "code",
   "execution_count": null,
   "metadata": {},
   "outputs": [],
   "source": []
  },
  {
   "cell_type": "code",
   "execution_count": null,
   "metadata": {},
   "outputs": [],
   "source": []
  },
  {
   "cell_type": "markdown",
   "metadata": {},
   "source": [
    "# DecisionTreeClassifier"
   ]
  },
  {
   "cell_type": "code",
   "execution_count": 42,
   "metadata": {},
   "outputs": [
    {
     "name": "stdout",
     "output_type": "stream",
     "text": [
      "Fold 1: Best params = {}, Average F1 score = 0.8810620915032681\n"
     ]
    }
   ],
   "source": [
    "from sklearn.tree import DecisionTreeClassifier\n",
    "\n",
    "dtc = DecisionTreeClassifier()\n",
    "calculate_avg_f11(dtc, x_train_norm1, {})"
   ]
  },
  {
   "cell_type": "code",
   "execution_count": 43,
   "metadata": {},
   "outputs": [
    {
     "name": "stdout",
     "output_type": "stream",
     "text": [
      "Fold 1: Best params = {}, Average F1 score = 0.8810620915032681\n"
     ]
    }
   ],
   "source": [
    "dtc = DecisionTreeClassifier()\n",
    "calculate_avg_f11(dtc, x_train_norm3, {})"
   ]
  },
  {
   "cell_type": "code",
   "execution_count": 44,
   "metadata": {
    "scrolled": true
   },
   "outputs": [
    {
     "name": "stdout",
     "output_type": "stream",
     "text": [
      "Fold 1: Best params = {'max_depth': 3}, Average F1 score = 0.46755574557653096\n",
      "Fold 2: Best params = {'max_depth': 5}, Average F1 score = 0.48945856068188426\n",
      "Fold 3: Best params = {'max_depth': 7}, Average F1 score = 0.510511796042618\n",
      "Fold 4: Best params = {'max_depth': 9}, Average F1 score = 0.5307680324038012\n",
      "Fold 5: Best params = {'max_depth': 15}, Average F1 score = 0.5597628014335176\n",
      "Fold 6: Best params = {'max_depth': 20}, Average F1 score = 0.5827448092735772\n",
      "Fold 7: Best params = {'max_depth': 50}, Average F1 score = 0.7020578348345652\n",
      "Fold 8: Best params = {'max_depth': 100}, Average F1 score = 0.8514890539740978\n"
     ]
    }
   ],
   "source": [
    "dtc = DecisionTreeClassifier()\n",
    "param_grid = {'max_depth': [3, 5, 7,9,15,20,50,100]}\n",
    "calculate_avg_f11(dtc, x_train_norm1, param_grid)"
   ]
  },
  {
   "cell_type": "code",
   "execution_count": 45,
   "metadata": {},
   "outputs": [
    {
     "name": "stdout",
     "output_type": "stream",
     "text": [
      "Fold 1: Best params = {'max_depth': 3, 'min_samples_split': 2}, Average F1 score = 0.46755574557653096\n",
      "Fold 2: Best params = {'max_depth': 3, 'min_samples_split': 5}, Average F1 score = 0.46755574557653096\n",
      "Fold 3: Best params = {'max_depth': 3, 'min_samples_split': 10}, Average F1 score = 0.46755574557653096\n",
      "Fold 4: Best params = {'max_depth': 5, 'min_samples_split': 2}, Average F1 score = 0.48945856068188426\n",
      "Fold 5: Best params = {'max_depth': 5, 'min_samples_split': 5}, Average F1 score = 0.48945856068188426\n",
      "Fold 6: Best params = {'max_depth': 5, 'min_samples_split': 10}, Average F1 score = 0.48945856068188426\n",
      "Fold 7: Best params = {'max_depth': 7, 'min_samples_split': 2}, Average F1 score = 0.510511796042618\n",
      "Fold 8: Best params = {'max_depth': 7, 'min_samples_split': 5}, Average F1 score = 0.510511796042618\n",
      "Fold 9: Best params = {'max_depth': 7, 'min_samples_split': 10}, Average F1 score = 0.510511796042618\n",
      "Fold 10: Best params = {'max_depth': 10, 'min_samples_split': 2}, Average F1 score = 0.5357133162448181\n",
      "Fold 11: Best params = {'max_depth': 10, 'min_samples_split': 5}, Average F1 score = 0.5357133162448181\n",
      "Fold 12: Best params = {'max_depth': 10, 'min_samples_split': 10}, Average F1 score = 0.5357133162448181\n",
      "Fold 13: Best params = {'max_depth': 20, 'min_samples_split': 2}, Average F1 score = 0.5827448092735772\n",
      "Fold 14: Best params = {'max_depth': 20, 'min_samples_split': 5}, Average F1 score = 0.5827448092735772\n",
      "Fold 15: Best params = {'max_depth': 20, 'min_samples_split': 10}, Average F1 score = 0.5827448092735772\n",
      "Fold 16: Best params = {'max_depth': 30, 'min_samples_split': 2}, Average F1 score = 0.6258057365942948\n",
      "Fold 17: Best params = {'max_depth': 30, 'min_samples_split': 5}, Average F1 score = 0.6258057365942948\n",
      "Fold 18: Best params = {'max_depth': 30, 'min_samples_split': 10}, Average F1 score = 0.6258057365942948\n"
     ]
    }
   ],
   "source": [
    "model = DecisionTreeClassifier()\n",
    "param_grid = {'max_depth': [3, 5, 7,10,20,30], 'min_samples_split': [2, 5, 10]}\n",
    "calculate_avg_f11(model, x_train_norm1, param_grid)"
   ]
  },
  {
   "cell_type": "code",
   "execution_count": 46,
   "metadata": {},
   "outputs": [
    {
     "name": "stdout",
     "output_type": "stream",
     "text": [
      "Fold 1: Best params = {'max_depth': 3, 'min_samples_split': 2}, Average F1 score = 0.46755574557653096\n",
      "Fold 2: Best params = {'max_depth': 3, 'min_samples_split': 5}, Average F1 score = 0.46755574557653096\n",
      "Fold 3: Best params = {'max_depth': 3, 'min_samples_split': 10}, Average F1 score = 0.46755574557653096\n",
      "Fold 4: Best params = {'max_depth': 5, 'min_samples_split': 2}, Average F1 score = 0.48945856068188426\n",
      "Fold 5: Best params = {'max_depth': 5, 'min_samples_split': 5}, Average F1 score = 0.48945856068188426\n",
      "Fold 6: Best params = {'max_depth': 5, 'min_samples_split': 10}, Average F1 score = 0.48945856068188426\n",
      "Fold 7: Best params = {'max_depth': 7, 'min_samples_split': 2}, Average F1 score = 0.510511796042618\n",
      "Fold 8: Best params = {'max_depth': 7, 'min_samples_split': 5}, Average F1 score = 0.510511796042618\n",
      "Fold 9: Best params = {'max_depth': 7, 'min_samples_split': 10}, Average F1 score = 0.510511796042618\n",
      "Fold 10: Best params = {'max_depth': 10, 'min_samples_split': 2}, Average F1 score = 0.5357133162448181\n",
      "Fold 11: Best params = {'max_depth': 10, 'min_samples_split': 5}, Average F1 score = 0.5357133162448181\n",
      "Fold 12: Best params = {'max_depth': 10, 'min_samples_split': 10}, Average F1 score = 0.5357133162448181\n",
      "Fold 13: Best params = {'max_depth': 20, 'min_samples_split': 2}, Average F1 score = 0.5827448092735772\n",
      "Fold 14: Best params = {'max_depth': 20, 'min_samples_split': 5}, Average F1 score = 0.5827448092735772\n",
      "Fold 15: Best params = {'max_depth': 20, 'min_samples_split': 10}, Average F1 score = 0.5827448092735772\n",
      "Fold 16: Best params = {'max_depth': 30, 'min_samples_split': 2}, Average F1 score = 0.6258057365942948\n",
      "Fold 17: Best params = {'max_depth': 30, 'min_samples_split': 5}, Average F1 score = 0.6258057365942948\n",
      "Fold 18: Best params = {'max_depth': 30, 'min_samples_split': 10}, Average F1 score = 0.6258057365942948\n"
     ]
    }
   ],
   "source": [
    "model = DecisionTreeClassifier()\n",
    "param_grid = {'max_depth': [3, 5, 7,10,20,30], 'min_samples_split': [2, 5, 10]}\n",
    "calculate_avg_f11(model, x_train_norm3, param_grid)"
   ]
  },
  {
   "cell_type": "markdown",
   "metadata": {},
   "source": [
    "Fold 16: Best params = {'max_depth': 30, 'min_samples_split': 2}, Average F1 score = 0.6258057365942948\n",
    "    \n",
    "x_train_norm1"
   ]
  },
  {
   "cell_type": "code",
   "execution_count": null,
   "metadata": {},
   "outputs": [],
   "source": []
  },
  {
   "cell_type": "code",
   "execution_count": null,
   "metadata": {},
   "outputs": [],
   "source": []
  },
  {
   "cell_type": "markdown",
   "metadata": {},
   "source": [
    "# MultinomialNB"
   ]
  },
  {
   "cell_type": "code",
   "execution_count": 47,
   "metadata": {},
   "outputs": [
    {
     "data": {
      "text/plain": [
       "MultinomialNB(alpha=0.1)"
      ]
     },
     "execution_count": 47,
     "metadata": {},
     "output_type": "execute_result"
    },
    {
     "data": {
      "text/html": [
       "<div>\n",
       "<style scoped>\n",
       "    .dataframe tbody tr th:only-of-type {\n",
       "        vertical-align: middle;\n",
       "    }\n",
       "\n",
       "    .dataframe tbody tr th {\n",
       "        vertical-align: top;\n",
       "    }\n",
       "\n",
       "    .dataframe thead th {\n",
       "        text-align: right;\n",
       "    }\n",
       "</style>\n",
       "<table border=\"1\" class=\"dataframe\">\n",
       "  <thead>\n",
       "    <tr style=\"text-align: right;\">\n",
       "      <th></th>\n",
       "      <th>test_example_id</th>\n",
       "      <th>predicted_category</th>\n",
       "    </tr>\n",
       "  </thead>\n",
       "  <tbody>\n",
       "    <tr>\n",
       "      <th>0</th>\n",
       "      <td>0</td>\n",
       "      <td>m</td>\n",
       "    </tr>\n",
       "    <tr>\n",
       "      <th>1</th>\n",
       "      <td>1</td>\n",
       "      <td>m</td>\n",
       "    </tr>\n",
       "    <tr>\n",
       "      <th>2</th>\n",
       "      <td>2</td>\n",
       "      <td>m</td>\n",
       "    </tr>\n",
       "    <tr>\n",
       "      <th>3</th>\n",
       "      <td>3</td>\n",
       "      <td>m</td>\n",
       "    </tr>\n",
       "    <tr>\n",
       "      <th>4</th>\n",
       "      <td>4</td>\n",
       "      <td>m</td>\n",
       "    </tr>\n",
       "  </tbody>\n",
       "</table>\n",
       "</div>"
      ],
      "text/plain": [
       "   test_example_id predicted_category\n",
       "0                0                  m\n",
       "1                1                  m\n",
       "2                2                  m\n",
       "3                3                  m\n",
       "4                4                  m"
      ]
     },
     "execution_count": 47,
     "metadata": {},
     "output_type": "execute_result"
    }
   ],
   "source": [
    "# vectorize the data\n",
    "count_vect = TfidfVectorizer(max_features=1000)\n",
    "X_train_counts = count_vect.fit_transform(train_corpus)\n",
    "\n",
    "# normalize the data\n",
    "X_train_counts_normalized = preprocessing.normalize(X_train_counts, norm='l1')\n",
    "\n",
    "# create the Multinomial Naive Bayes classifier\n",
    "clf = MultinomialNB(alpha=0.1)\n",
    "\n",
    "# fit the model to the normalized training data (x_train_norm2)\n",
    "clf.fit(x_train_norm2, df_train['gender'])\n",
    "\n",
    "# vectorize and normalize the test data\n",
    "X_test_counts = count_vect.transform(test_corpus)\n",
    "X_test_counts_normalized = preprocessing.normalize(X_test_counts, norm='l1')\n",
    "\n",
    "# make predictions on the test data\n",
    "test_pred = clf.predict(X_test_counts_normalized)\n",
    "\n",
    "# create a DataFrame to store the results\n",
    "results = pd.DataFrame({'test_example_id': df_test['test_example_id'], 'predicted_category': test_pred})\n",
    "\n",
    "# print the results\n",
    "results.head()"
   ]
  },
  {
   "cell_type": "code",
   "execution_count": null,
   "metadata": {},
   "outputs": [],
   "source": []
  },
  {
   "cell_type": "code",
   "execution_count": null,
   "metadata": {},
   "outputs": [],
   "source": []
  },
  {
   "cell_type": "markdown",
   "metadata": {},
   "source": [
    "# SVC"
   ]
  },
  {
   "cell_type": "code",
   "execution_count": 49,
   "metadata": {},
   "outputs": [
    {
     "data": {
      "text/plain": [
       "SVC(C=1, kernel='poly')"
      ]
     },
     "execution_count": 49,
     "metadata": {},
     "output_type": "execute_result"
    },
    {
     "data": {
      "text/html": [
       "<div>\n",
       "<style scoped>\n",
       "    .dataframe tbody tr th:only-of-type {\n",
       "        vertical-align: middle;\n",
       "    }\n",
       "\n",
       "    .dataframe tbody tr th {\n",
       "        vertical-align: top;\n",
       "    }\n",
       "\n",
       "    .dataframe thead th {\n",
       "        text-align: right;\n",
       "    }\n",
       "</style>\n",
       "<table border=\"1\" class=\"dataframe\">\n",
       "  <thead>\n",
       "    <tr style=\"text-align: right;\">\n",
       "      <th></th>\n",
       "      <th>test_example_id</th>\n",
       "      <th>predicted_category</th>\n",
       "    </tr>\n",
       "  </thead>\n",
       "  <tbody>\n",
       "    <tr>\n",
       "      <th>0</th>\n",
       "      <td>0</td>\n",
       "      <td>m</td>\n",
       "    </tr>\n",
       "    <tr>\n",
       "      <th>1</th>\n",
       "      <td>1</td>\n",
       "      <td>m</td>\n",
       "    </tr>\n",
       "    <tr>\n",
       "      <th>2</th>\n",
       "      <td>2</td>\n",
       "      <td>m</td>\n",
       "    </tr>\n",
       "    <tr>\n",
       "      <th>3</th>\n",
       "      <td>3</td>\n",
       "      <td>m</td>\n",
       "    </tr>\n",
       "    <tr>\n",
       "      <th>4</th>\n",
       "      <td>4</td>\n",
       "      <td>m</td>\n",
       "    </tr>\n",
       "  </tbody>\n",
       "</table>\n",
       "</div>"
      ],
      "text/plain": [
       "   test_example_id predicted_category\n",
       "0                0                  m\n",
       "1                1                  m\n",
       "2                2                  m\n",
       "3                3                  m\n",
       "4                4                  m"
      ]
     },
     "execution_count": 49,
     "metadata": {},
     "output_type": "execute_result"
    }
   ],
   "source": [
    "# vectorize the data\n",
    "count_vect = TfidfVectorizer(max_features=1000)\n",
    "X_train_counts = count_vect.fit_transform(train_corpus)\n",
    "\n",
    "# normalize the data (using x_train_norm2)\n",
    "X_train_counts_normalized = x_train_norm2\n",
    "\n",
    "# create the SVC with the desired parameters\n",
    "clf = SVC(C=1, kernel='poly')\n",
    "\n",
    "# fit the model to the training data\n",
    "clf.fit(X_train_counts_normalized, df_train['gender'])\n",
    "\n",
    "# vectorize and normalize the test data\n",
    "X_test_counts = count_vect.transform(test_corpus)\n",
    "X_test_counts_normalized = preprocessing.normalize(X_test_counts, norm='l1')\n",
    "\n",
    "# make predictions on the test data\n",
    "test_pred = clf.predict(X_test_counts_normalized)\n",
    "\n",
    "# create a DataFrame to store the results\n",
    "results1 = pd.DataFrame({'test_example_id': df_test['test_example_id'], 'predicted_category': test_pred})\n",
    "\n",
    "# print the results\n",
    "results1.head()"
   ]
  },
  {
   "cell_type": "code",
   "execution_count": null,
   "metadata": {},
   "outputs": [],
   "source": []
  },
  {
   "cell_type": "code",
   "execution_count": null,
   "metadata": {},
   "outputs": [],
   "source": []
  },
  {
   "cell_type": "markdown",
   "metadata": {},
   "source": [
    "# KNeighborsClassifier"
   ]
  },
  {
   "cell_type": "code",
   "execution_count": 50,
   "metadata": {},
   "outputs": [
    {
     "data": {
      "text/plain": [
       "KNeighborsClassifier(weights='distance')"
      ]
     },
     "execution_count": 50,
     "metadata": {},
     "output_type": "execute_result"
    },
    {
     "data": {
      "text/html": [
       "<div>\n",
       "<style scoped>\n",
       "    .dataframe tbody tr th:only-of-type {\n",
       "        vertical-align: middle;\n",
       "    }\n",
       "\n",
       "    .dataframe tbody tr th {\n",
       "        vertical-align: top;\n",
       "    }\n",
       "\n",
       "    .dataframe thead th {\n",
       "        text-align: right;\n",
       "    }\n",
       "</style>\n",
       "<table border=\"1\" class=\"dataframe\">\n",
       "  <thead>\n",
       "    <tr style=\"text-align: right;\">\n",
       "      <th></th>\n",
       "      <th>test_example_id</th>\n",
       "      <th>predicted_category</th>\n",
       "    </tr>\n",
       "  </thead>\n",
       "  <tbody>\n",
       "    <tr>\n",
       "      <th>0</th>\n",
       "      <td>0</td>\n",
       "      <td>m</td>\n",
       "    </tr>\n",
       "    <tr>\n",
       "      <th>1</th>\n",
       "      <td>1</td>\n",
       "      <td>m</td>\n",
       "    </tr>\n",
       "    <tr>\n",
       "      <th>2</th>\n",
       "      <td>2</td>\n",
       "      <td>m</td>\n",
       "    </tr>\n",
       "    <tr>\n",
       "      <th>3</th>\n",
       "      <td>3</td>\n",
       "      <td>m</td>\n",
       "    </tr>\n",
       "    <tr>\n",
       "      <th>4</th>\n",
       "      <td>4</td>\n",
       "      <td>m</td>\n",
       "    </tr>\n",
       "  </tbody>\n",
       "</table>\n",
       "</div>"
      ],
      "text/plain": [
       "   test_example_id predicted_category\n",
       "0                0                  m\n",
       "1                1                  m\n",
       "2                2                  m\n",
       "3                3                  m\n",
       "4                4                  m"
      ]
     },
     "execution_count": 50,
     "metadata": {},
     "output_type": "execute_result"
    }
   ],
   "source": [
    "count_vect = TfidfVectorizer(max_features=1000)\n",
    "X_train_counts = count_vect.fit_transform(train_corpus)\n",
    "\n",
    "# normalize the data\n",
    "X_train_counts_normalized = x_train_norm1\n",
    "\n",
    "# create the KNN classifier\n",
    "clf = KNeighborsClassifier(n_neighbors=5, weights='distance')\n",
    "\n",
    "# fit the model to the training data\n",
    "clf.fit(X_train_counts_normalized, df_train['gender'])\n",
    "\n",
    "# vectorize and normalize the test data\n",
    "X_test_counts = count_vect.transform(test_corpus)\n",
    "X_test_counts_normalized = preprocessing.normalize(X_test_counts, norm='l1')\n",
    "\n",
    "# make predictions on the test data\n",
    "test_pred = clf.predict(X_test_counts_normalized)\n",
    "\n",
    "# create a DataFrame to store the results\n",
    "results2 = pd.DataFrame({'test_example_id': df_test['test_example_id'], 'predicted_category': test_pred})\n",
    "\n",
    "# print the results\n",
    "results2.head()"
   ]
  },
  {
   "cell_type": "code",
   "execution_count": null,
   "metadata": {},
   "outputs": [],
   "source": []
  },
  {
   "cell_type": "markdown",
   "metadata": {},
   "source": [
    "# LinearSVC"
   ]
  },
  {
   "cell_type": "code",
   "execution_count": 51,
   "metadata": {},
   "outputs": [
    {
     "data": {
      "text/plain": [
       "LinearSVC()"
      ]
     },
     "execution_count": 51,
     "metadata": {},
     "output_type": "execute_result"
    },
    {
     "data": {
      "text/html": [
       "<div>\n",
       "<style scoped>\n",
       "    .dataframe tbody tr th:only-of-type {\n",
       "        vertical-align: middle;\n",
       "    }\n",
       "\n",
       "    .dataframe tbody tr th {\n",
       "        vertical-align: top;\n",
       "    }\n",
       "\n",
       "    .dataframe thead th {\n",
       "        text-align: right;\n",
       "    }\n",
       "</style>\n",
       "<table border=\"1\" class=\"dataframe\">\n",
       "  <thead>\n",
       "    <tr style=\"text-align: right;\">\n",
       "      <th></th>\n",
       "      <th>test_example_id</th>\n",
       "      <th>predicted_category</th>\n",
       "    </tr>\n",
       "  </thead>\n",
       "  <tbody>\n",
       "    <tr>\n",
       "      <th>0</th>\n",
       "      <td>0</td>\n",
       "      <td>m</td>\n",
       "    </tr>\n",
       "    <tr>\n",
       "      <th>1</th>\n",
       "      <td>1</td>\n",
       "      <td>m</td>\n",
       "    </tr>\n",
       "    <tr>\n",
       "      <th>2</th>\n",
       "      <td>2</td>\n",
       "      <td>m</td>\n",
       "    </tr>\n",
       "    <tr>\n",
       "      <th>3</th>\n",
       "      <td>3</td>\n",
       "      <td>m</td>\n",
       "    </tr>\n",
       "    <tr>\n",
       "      <th>4</th>\n",
       "      <td>4</td>\n",
       "      <td>m</td>\n",
       "    </tr>\n",
       "  </tbody>\n",
       "</table>\n",
       "</div>"
      ],
      "text/plain": [
       "   test_example_id predicted_category\n",
       "0                0                  m\n",
       "1                1                  m\n",
       "2                2                  m\n",
       "3                3                  m\n",
       "4                4                  m"
      ]
     },
     "execution_count": 51,
     "metadata": {},
     "output_type": "execute_result"
    }
   ],
   "source": [
    "# vectorize the data\n",
    "count_vect = TfidfVectorizer(max_features=1000)\n",
    "X_train_counts = count_vect.fit_transform(train_corpus)\n",
    "\n",
    "# Use x_train_norm2 for normalization\n",
    "X_train_counts_normalized = x_train_norm2\n",
    "\n",
    "# Create the LinearSVC classifier with the desired parameters\n",
    "clf = LinearSVC(C=1.0)\n",
    "\n",
    "# fit the model to the training data\n",
    "clf.fit(X_train_counts_normalized, df_train['gender'])\n",
    "\n",
    "# vectorize and normalize the test data\n",
    "X_test_counts = count_vect.transform(test_corpus)\n",
    "X_test_counts_normalized = preprocessing.normalize(X_test_counts, norm='l1')\n",
    "\n",
    "# make predictions on the test data\n",
    "test_pred = clf.predict(X_test_counts_normalized)\n",
    "\n",
    "# create a DataFrame to store the results\n",
    "results3 = pd.DataFrame({'test_example_id': df_test['test_example_id'], 'predicted_category': test_pred})\n",
    "\n",
    "# print the results\n",
    "results3.head()"
   ]
  },
  {
   "cell_type": "code",
   "execution_count": null,
   "metadata": {},
   "outputs": [],
   "source": []
  },
  {
   "cell_type": "markdown",
   "metadata": {},
   "source": [
    "# DecisionTreeClassifier"
   ]
  },
  {
   "cell_type": "code",
   "execution_count": 52,
   "metadata": {},
   "outputs": [
    {
     "data": {
      "text/plain": [
       "DecisionTreeClassifier(max_depth=30)"
      ]
     },
     "execution_count": 52,
     "metadata": {},
     "output_type": "execute_result"
    },
    {
     "data": {
      "text/html": [
       "<div>\n",
       "<style scoped>\n",
       "    .dataframe tbody tr th:only-of-type {\n",
       "        vertical-align: middle;\n",
       "    }\n",
       "\n",
       "    .dataframe tbody tr th {\n",
       "        vertical-align: top;\n",
       "    }\n",
       "\n",
       "    .dataframe thead th {\n",
       "        text-align: right;\n",
       "    }\n",
       "</style>\n",
       "<table border=\"1\" class=\"dataframe\">\n",
       "  <thead>\n",
       "    <tr style=\"text-align: right;\">\n",
       "      <th></th>\n",
       "      <th>test_example_id</th>\n",
       "      <th>predicted_category</th>\n",
       "    </tr>\n",
       "  </thead>\n",
       "  <tbody>\n",
       "    <tr>\n",
       "      <th>0</th>\n",
       "      <td>0</td>\n",
       "      <td>m</td>\n",
       "    </tr>\n",
       "    <tr>\n",
       "      <th>1</th>\n",
       "      <td>1</td>\n",
       "      <td>m</td>\n",
       "    </tr>\n",
       "    <tr>\n",
       "      <th>2</th>\n",
       "      <td>2</td>\n",
       "      <td>m</td>\n",
       "    </tr>\n",
       "    <tr>\n",
       "      <th>3</th>\n",
       "      <td>3</td>\n",
       "      <td>m</td>\n",
       "    </tr>\n",
       "    <tr>\n",
       "      <th>4</th>\n",
       "      <td>4</td>\n",
       "      <td>m</td>\n",
       "    </tr>\n",
       "  </tbody>\n",
       "</table>\n",
       "</div>"
      ],
      "text/plain": [
       "   test_example_id predicted_category\n",
       "0                0                  m\n",
       "1                1                  m\n",
       "2                2                  m\n",
       "3                3                  m\n",
       "4                4                  m"
      ]
     },
     "execution_count": 52,
     "metadata": {},
     "output_type": "execute_result"
    }
   ],
   "source": [
    "# vectorize the data\n",
    "count_vect = TfidfVectorizer(max_features=1000)\n",
    "X_train_counts = count_vect.fit_transform(train_corpus)\n",
    "\n",
    "# normalize the data\n",
    "X_train_counts_normalized = x_train_norm1\n",
    "\n",
    "# create the DecisionTreeClassifier with the desired parameters\n",
    "clf = DecisionTreeClassifier(max_depth=30, min_samples_split=2)\n",
    "\n",
    "# fit the model to the training data\n",
    "clf.fit(X_train_counts_normalized, df_train['gender'])\n",
    "\n",
    "# vectorize and normalize the test data\n",
    "X_test_counts = count_vect.transform(test_corpus)\n",
    "X_test_counts_normalized = preprocessing.normalize(X_test_counts, norm='l1')\n",
    "\n",
    "# make predictions on the test data\n",
    "test_pred = clf.predict(X_test_counts_normalized)\n",
    "\n",
    "# create a DataFrame to store the results\n",
    "results4 = pd.DataFrame({'test_example_id': df_test['test_example_id'], 'predicted_category': test_pred})\n",
    "\n",
    "# print the results\n",
    "results4.head()"
   ]
  },
  {
   "cell_type": "code",
   "execution_count": null,
   "metadata": {},
   "outputs": [],
   "source": []
  },
  {
   "cell_type": "code",
   "execution_count": null,
   "metadata": {},
   "outputs": [],
   "source": []
  },
  {
   "cell_type": "markdown",
   "metadata": {},
   "source": [
    "# BernoulliNB"
   ]
  },
  {
   "cell_type": "code",
   "execution_count": 53,
   "metadata": {},
   "outputs": [
    {
     "data": {
      "text/plain": [
       "BernoulliNB(alpha=0.1)"
      ]
     },
     "execution_count": 53,
     "metadata": {},
     "output_type": "execute_result"
    },
    {
     "data": {
      "text/html": [
       "<div>\n",
       "<style scoped>\n",
       "    .dataframe tbody tr th:only-of-type {\n",
       "        vertical-align: middle;\n",
       "    }\n",
       "\n",
       "    .dataframe tbody tr th {\n",
       "        vertical-align: top;\n",
       "    }\n",
       "\n",
       "    .dataframe thead th {\n",
       "        text-align: right;\n",
       "    }\n",
       "</style>\n",
       "<table border=\"1\" class=\"dataframe\">\n",
       "  <thead>\n",
       "    <tr style=\"text-align: right;\">\n",
       "      <th></th>\n",
       "      <th>test_example_id</th>\n",
       "      <th>predicted_category</th>\n",
       "    </tr>\n",
       "  </thead>\n",
       "  <tbody>\n",
       "    <tr>\n",
       "      <th>0</th>\n",
       "      <td>0</td>\n",
       "      <td>f</td>\n",
       "    </tr>\n",
       "    <tr>\n",
       "      <th>1</th>\n",
       "      <td>1</td>\n",
       "      <td>m</td>\n",
       "    </tr>\n",
       "    <tr>\n",
       "      <th>2</th>\n",
       "      <td>2</td>\n",
       "      <td>m</td>\n",
       "    </tr>\n",
       "    <tr>\n",
       "      <th>3</th>\n",
       "      <td>3</td>\n",
       "      <td>m</td>\n",
       "    </tr>\n",
       "    <tr>\n",
       "      <th>4</th>\n",
       "      <td>4</td>\n",
       "      <td>m</td>\n",
       "    </tr>\n",
       "  </tbody>\n",
       "</table>\n",
       "</div>"
      ],
      "text/plain": [
       "   test_example_id predicted_category\n",
       "0                0                  f\n",
       "1                1                  m\n",
       "2                2                  m\n",
       "3                3                  m\n",
       "4                4                  m"
      ]
     },
     "execution_count": 53,
     "metadata": {},
     "output_type": "execute_result"
    }
   ],
   "source": [
    "# Vectorize the data\n",
    "count_vect = TfidfVectorizer(max_features=1000, binary=True)\n",
    "X_train_counts = count_vect.fit_transform(train_corpus)\n",
    "\n",
    "# Create the Bernoulli Naive Bayes classifier with the best parameter\n",
    "clf = BernoulliNB(alpha=0.1)\n",
    "\n",
    "# Fit the model to the normalized training data (x_train_norm1)\n",
    "clf.fit(x_train_norm1, df_train['gender'])\n",
    "\n",
    "# Vectorize the test data\n",
    "X_test_counts = count_vect.transform(test_corpus)\n",
    "\n",
    "# Make predictions on the test data\n",
    "test_pred = clf.predict(X_test_counts)\n",
    "\n",
    "# Create a DataFrame to store the results\n",
    "results5 = pd.DataFrame({'test_example_id': df_test['test_example_id'], 'predicted_category': test_pred})\n",
    "\n",
    "# Print the results\n",
    "results5.head()"
   ]
  },
  {
   "cell_type": "markdown",
   "metadata": {},
   "source": [
    "### Save output to csv (optional)\n",
    "After you're done save your output to the 'classification_results.csv' csv file.<br/>\n",
    "We assume that the dataframe with your results contain the following columns:\n",
    "* column 1 (left column): 'test_example_id'  - the same id associated to each of the test stories to be predicted.\n",
    "* column 2 (right column): 'predicted_category' - the predicted gender value for each of the associated story. \n",
    "\n",
    "Assuming your predicted values are in the `df_predicted` dataframe, you should save you're results as following:"
   ]
  },
  {
   "cell_type": "code",
   "execution_count": 54,
   "metadata": {},
   "outputs": [],
   "source": [
    "results5.to_csv('classification_results.csv',index=False)"
   ]
  },
  {
   "cell_type": "code",
   "execution_count": null,
   "metadata": {},
   "outputs": [],
   "source": []
  }
 ],
 "metadata": {
  "celltoolbar": "Create Assignment",
  "kernelspec": {
   "display_name": "Python 3 (ipykernel)",
   "language": "python",
   "name": "python3"
  },
  "language_info": {
   "codemirror_mode": {
    "name": "ipython",
    "version": 3
   },
   "file_extension": ".py",
   "mimetype": "text/x-python",
   "name": "python",
   "nbconvert_exporter": "python",
   "pygments_lexer": "ipython3",
   "version": "3.9.13"
  }
 },
 "nbformat": 4,
 "nbformat_minor": 4
}
